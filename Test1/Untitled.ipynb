{
 "cells": [
  {
   "cell_type": "code",
   "execution_count": 28,
   "metadata": {
    "collapsed": false
   },
   "outputs": [],
   "source": [
    "import csv\n",
    "\n",
    "def featureBuilder(infileName, outputName):\n",
    "    \n",
    "    outfile = open(outputName, 'w')        \n",
    "    product = read_product_attributes(\"attributes.csv\")\n",
    "    \n",
    "    relevence = None \n",
    "    csv_reader = csv.reader(file(infileName))\n",
    "    next(csv_reader)\n",
    "    for current_line in csv_reader:                \n",
    "        input_id = current_line[0]\n",
    "        uid = current_line[1]\n",
    "        title = current_line[2]\n",
    "        search_term = current_line[3]        \n",
    "        if len(current_line) > 4:\n",
    "            relevence = current_line[4]\n",
    "                \n",
    "            \n",
    "        #add features---------------------\n",
    "        features = []\n",
    "        features += [search_term]\n",
    "        brand = \"\"\n",
    "        fdepth = \"\"\n",
    "        \n",
    "        #brand:\n",
    "        if product.get(uid):\n",
    "            brand = product[uid].get(\"MFG Brand Name\", \"\")                \n",
    "            depth = product[uid].get(\"Product Depth (in.)\", \"\")\n",
    "        features += [depth]\n",
    "        features += [brand]\n",
    "        features += [title]\n",
    "                        \n",
    "        #output features\n",
    "        if relevence:\n",
    "            r = 1            \n",
    "            r = int(float(relevence))\n",
    "            features += [r]\n",
    "            \n",
    "        output = \"\"\n",
    "        for f in features:\n",
    "            output += str(f) + \"\\t\"\n",
    "        output = output.rstrip('\\t')\n",
    "        outfile.write(output)\n",
    "        outfile.write('\\n')                                                    \n",
    "\n",
    "\n",
    "def read_product_attributes(infileName):\n",
    "    infile = open(infileName, 'r')\n",
    "    lines = infile.readlines()\n",
    "    product = {}\n",
    "    for i in range(1, len(lines)):\n",
    "        lines[i] = lines[i].rstrip('\\n')\n",
    "        current_line = lines[i].split(',')\n",
    "        uid = current_line[0]\n",
    "        name = current_line[1]\n",
    "        value = current_line[2]        \n",
    "        if product.get(uid) == None:\n",
    "            product[uid] = {}\n",
    "        product[uid][name]=value        \n",
    "    return product\n",
    "        \n",
    "        \n",
    "featureBuilder(\"train.csv\", \"train_featured\")\n",
    "featureBuilder(\"test.csv\", \"test_featured\")\n",
    "\n",
    "\n",
    "\n",
    "\n"
   ]
  },
  {
   "cell_type": "code",
   "execution_count": 42,
   "metadata": {
    "collapsed": false
   },
   "outputs": [],
   "source": [
    "import csv\n",
    "\n",
    "infileName = \"test_result\"\n",
    "infileName2 = \"sample_submission.csv\"\n",
    "\n",
    "outfile = open(\"test_result.csv\", 'w')        \n",
    "outfile.write(\"\\\"id\\\",\\\"relevance\\\"\\n\")\n",
    "\n",
    "lines_test = open(infileName, 'r').readlines()\n",
    "lines_sample = open(infileName2, 'r').readlines()\n",
    "\n",
    "for i in range(1, len(lines_sample)):\n",
    "    \n",
    "    out_id = lines_sample[i].rstrip('\\n').split(',')[0]\n",
    "    res = lines_test[i].rstrip('\\n').split(',')[-1]\n",
    "    output = out_id + \",\" + res + \"\\n\"\n",
    "    outfile.write(output)\n",
    "    \n",
    "    \n",
    "    \n",
    "    "
   ]
  },
  {
   "cell_type": "code",
   "execution_count": null,
   "metadata": {
    "collapsed": true
   },
   "outputs": [],
   "source": []
  }
 ],
 "metadata": {
  "kernelspec": {
   "display_name": "Python 2",
   "language": "python",
   "name": "python2"
  },
  "language_info": {
   "codemirror_mode": {
    "name": "ipython",
    "version": 2
   },
   "file_extension": ".py",
   "mimetype": "text/x-python",
   "name": "python",
   "nbconvert_exporter": "python",
   "pygments_lexer": "ipython2",
   "version": "2.7.6"
  }
 },
 "nbformat": 4,
 "nbformat_minor": 0
}
